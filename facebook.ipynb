{
 "cells": [
  {
   "cell_type": "code",
   "execution_count": 1,
   "id": "9dafe156",
   "metadata": {},
   "outputs": [],
   "source": [
    "from selenium import webdriver\n",
    "from selenium.webdriver.common.keys import Keys\n",
    "from selenium.webdriver.support import expected_conditions as EC\n",
    "from selenium.webdriver.common.by import By\n",
    "from selenium.webdriver.support.wait import WebDriverWait\n",
    "import time\n",
    "import os\n",
    "import wget"
   ]
  },
  {
   "cell_type": "code",
   "execution_count": 2,
   "id": "6d45e5ae",
   "metadata": {
    "scrolled": true
   },
   "outputs": [
    {
     "name": "stderr",
     "output_type": "stream",
     "text": [
      "C:\\Users\\Lenovo\\AppData\\Local\\Temp/ipykernel_880/4141653223.py:7: DeprecationWarning: use options instead of chrome_options\n",
      "  driver = webdriver.Chrome('C:/Users/Lenovo/chromedriver.exe', chrome_options=chrome_options)\n"
     ]
    }
   ],
   "source": [
    "#code by pythonjar, not me\n",
    "chrome_options = webdriver.ChromeOptions()\n",
    "prefs = {\"profile.default_content_setting_values.notifications\" : 2}\n",
    "chrome_options.add_experimental_option(\"prefs\",prefs)\n",
    "\n",
    "#specify the path to chromedriver.exe (download and save on your computer)\n",
    "driver = webdriver.Chrome('C:/Users/Lenovo/chromedriver.exe', chrome_options=chrome_options)\n",
    "\n",
    "#open the webpage\n",
    "driver.get(\"http://www.facebook.com\")"
   ]
  },
  {
   "cell_type": "code",
   "execution_count": 3,
   "id": "6a63a9c5",
   "metadata": {},
   "outputs": [],
   "source": [
    "#target username\n",
    "username = WebDriverWait(driver, 10).until(EC.element_to_be_clickable((By.CSS_SELECTOR, \"input[name='email']\")))\n",
    "password = WebDriverWait(driver, 10).until(EC.element_to_be_clickable((By.CSS_SELECTOR, \"input[name='pass']\")))\n",
    "\n",
    "#enter username and password\n",
    "username.clear()\n",
    "username.send_keys(\"ahamad1607088@stud.kuet.ac.bd\")\n",
    "password.clear()\n",
    "password.send_keys(\"1234567890@\")\n",
    "\n",
    "#target the login button and click it\n",
    "button = WebDriverWait(driver, 2).until(EC.element_to_be_clickable((By.CSS_SELECTOR, \"button[type='submit']\"))).click()\n",
    "\n",
    "#We are logged in!"
   ]
  },
  {
   "cell_type": "code",
   "execution_count": 19,
   "id": "64226c43",
   "metadata": {},
   "outputs": [
    {
     "ename": "IndentationError",
     "evalue": "unexpected indent (Temp/ipykernel_7604/2280506530.py, line 7)",
     "output_type": "error",
     "traceback": [
      "\u001b[1;36m  File \u001b[1;32m\"C:\\Users\\Lenovo\\AppData\\Local\\Temp/ipykernel_7604/2280506530.py\"\u001b[1;36m, line \u001b[1;32m7\u001b[0m\n\u001b[1;33m    driver.get(\"https://www.facebook.com/groups/GafargaonFoodies/\")\u001b[0m\n\u001b[1;37m    ^\u001b[0m\n\u001b[1;31mIndentationError\u001b[0m\u001b[1;31m:\u001b[0m unexpected indent\n"
     ]
    }
   ],
   "source": [
    "#https://www.facebook.com/profile.php?id=100080779994440&sk=photos_by\n",
    "\n",
    "images = []\n",
    "\n",
    "#for i in ['photos']:\n",
    "    #driver.get(\"https://www.facebook.com/groups/1670033729737274/media/\" + i )\n",
    "    #driver.get(\"https://www.facebook.com/groups/GafargaonFoodies/\")\n",
    "    time.sleep(5)\n",
    "    \n",
    "    n_scrolls = 2\n",
    "    for j in range(1, n_scrolls):\n",
    "        driver.execute_script(\"window.scrollTo(0, 4000);\")\n",
    "        #driver.execute_script(\"window.scrollTo(0, document.body.scrollHeight);\")\n",
    "        time.sleep(5)\n",
    "        \n",
    "        '''anchors = driver.find_elements_by_tag_name('a')\n",
    "        anchors = [a.get_attribute('href') for a in anchors]\n",
    "        anchors = [a for a in anchors if str(a).startswith(\"https://www.facebook.com/photo\")]\n",
    "        #print(anchors)\n",
    "        \n",
    "        for a in anchors:\n",
    "            driver.get(a)\n",
    "            time.sleep(5)\n",
    "            img = driver.find_elements_by_tag_name(\"img\")\n",
    "            images.append(img[0].get_attribute(\"src\"))\n",
    "            #for k in img:\n",
    "                #print(k.get_attribute(\"src\"))\n",
    "\n",
    "images'''"
   ]
  },
  {
   "cell_type": "code",
   "execution_count": 8,
   "id": "4feeb3ba",
   "metadata": {},
   "outputs": [
    {
     "data": {
      "text/plain": [
       "['https://scontent.fcla3-1.fna.fbcdn.net/v/t39.30808-6/279737141_4379867812115888_2314464291689689952_n.jpg?_nc_cat=107&ccb=1-6&_nc_sid=8bfeb9&_nc_ohc=tsUkSw63MvIAX9RQdyO&_nc_ht=scontent.fcla3-1.fna&oh=00_AT--TMTJ2U32IB--ZHyiB4KPucgeK15rQSZnWmTgT8hrzw&oe=627EF4F9',\n",
       " 'https://scontent.fcla3-1.fna.fbcdn.net/v/t39.30808-6/279009944_7465912986816011_6831950829613971589_n.jpg?_nc_cat=1&ccb=1-6&_nc_sid=8631f5&_nc_ohc=h7hgbE9dMOoAX8DPXAc&_nc_ht=scontent.fcla3-1.fna&oh=00_AT_em9WGETRyFRFCBbraU8nkKHrbsfutX4DQeriPMsdfNQ&oe=627E9D66',\n",
       " 'https://scontent.fcla3-1.fna.fbcdn.net/v/t39.30808-6/279798482_2133611213463848_741631787297346497_n.jpg?_nc_cat=103&ccb=1-6&_nc_sid=5cd70e&_nc_ohc=KKKRxpcUUu0AX8FvyYZ&_nc_ht=scontent.fcla3-1.fna&oh=00_AT9t7A8rb47bZej4GaDMJNt9qA83KHdbJlD32gIZtlEI9A&oe=627E6957',\n",
       " 'https://scontent.fcla3-1.fna.fbcdn.net/v/t39.30808-6/279908063_2133611186797184_5980780936853356245_n.jpg?_nc_cat=101&ccb=1-6&_nc_sid=5cd70e&_nc_ohc=9G4e5dsmMAAAX_6ug2l&_nc_ht=scontent.fcla3-1.fna&oh=00_AT_wzucrDHuCENbLJaBHLZqW6LIvUd5zF6MhOHHvY8MXeA&oe=627DCF95',\n",
       " 'https://scontent.fcla3-1.fna.fbcdn.net/v/t39.30808-6/280062909_2133611136797189_138168206231172407_n.jpg?_nc_cat=100&ccb=1-6&_nc_sid=5cd70e&_nc_ohc=06gnvNINFscAX8Nq7wG&_nc_ht=scontent.fcla3-1.fna&oh=00_AT-2tTWDQJabAUvVL5JbUdcPy_lbzmQjUjSy3NBX1nQvGA&oe=627DAFA9',\n",
       " 'https://scontent.fcla3-1.fna.fbcdn.net/v/t39.30808-6/279914656_2133611066797196_8878907865746164201_n.jpg?_nc_cat=101&ccb=1-6&_nc_sid=5cd70e&_nc_ohc=5fSngVBy5qkAX9Q9TGR&_nc_ht=scontent.fcla3-1.fna&oh=00_AT921tkyfW8VS-CCcq_GgxBNSQs6SDqcR41ktgH-VnfKcg&oe=627E2EF9',\n",
       " 'https://scontent.fcla3-1.fna.fbcdn.net/v/t39.30808-6/279317515_664180931322192_719727777654652415_n.jpg?_nc_cat=111&ccb=1-6&_nc_sid=5cd70e&_nc_ohc=blaS9adnhlcAX_3ySgW&_nc_ht=scontent.fcla3-1.fna&oh=00_AT_stxswfdYh2Ex8Q0-_spaavdCRW68elpjmIQ4SHWPYjA&oe=627EA526',\n",
       " 'https://scontent.fcla3-1.fna.fbcdn.net/v/t39.30808-6/280493113_1158126508311468_6733435385726852225_n.jpg?_nc_cat=109&ccb=1-6&_nc_sid=5cd70e&_nc_ohc=xZcXl4Vv9JkAX-AONmh&_nc_ht=scontent.fcla3-1.fna&oh=00_AT9STP0ldojvHmPL_gDd81cAHOM1lINf-OGmxZRgKgE5SA&oe=627EA207',\n",
       " 'https://scontent.fcla3-1.fna.fbcdn.net/v/t39.30808-6/280429880_1158126434978142_8002721654478710435_n.jpg?_nc_cat=102&ccb=1-6&_nc_sid=5cd70e&_nc_ohc=MB74Ls9CJrIAX8EwWFZ&_nc_ht=scontent.fcla3-1.fna&oh=00_AT9WCC_KcqBBbisGiFOd91xjBFtwQsnpFOsbCuq_nl81AQ&oe=627F1990',\n",
       " 'https://scontent.fcla3-1.fna.fbcdn.net/v/t39.30808-6/280427365_1158126364978149_1634247220636290046_n.jpg?_nc_cat=109&ccb=1-6&_nc_sid=5cd70e&_nc_ohc=bzWQB9cK-BQAX_XG6Tr&_nc_ht=scontent.fcla3-1.fna&oh=00_AT9uk7E8f73bkk7dO06lgw6MsoZg4SqrBw6OjnQfWMUB2A&oe=627DE935',\n",
       " 'https://scontent.fcla3-1.fna.fbcdn.net/v/t39.30808-6/280408158_1158126311644821_905857533620156777_n.jpg?_nc_cat=108&ccb=1-6&_nc_sid=5cd70e&_nc_ohc=NWagBgjHEQ4AX_OhNbx&_nc_ht=scontent.fcla3-1.fna&oh=00_AT8sf521McK9QD8PAS_ruNe26AzE7YIIe5flhS1kHe9Fzg&oe=627E94D8',\n",
       " 'https://scontent.fcla3-1.fna.fbcdn.net/v/t39.30808-6/280556635_1158126254978160_1080005501866753740_n.jpg?_nc_cat=101&ccb=1-6&_nc_sid=5cd70e&_nc_ohc=pnjxkqn_HlsAX9-Sjxv&_nc_ht=scontent.fcla3-1.fna&oh=00_AT-9DzDOePHHwyvoBtr_z8_D2HW7PmtimPHoe6p6_7GmsA&oe=627D9748',\n",
       " 'https://scontent.fcla3-1.fna.fbcdn.net/v/t39.30808-6/280602067_1158126198311499_5868705060843362134_n.jpg?_nc_cat=108&ccb=1-6&_nc_sid=5cd70e&_nc_ohc=6tIrz004DGwAX_mkf2x&_nc_ht=scontent.fcla3-1.fna&oh=00_AT96YyfV0Vv1O1BKG4KqGkszoi7GREciMvWUnARLNW7Ymg&oe=627D9116',\n",
       " 'https://scontent.fcla3-1.fna.fbcdn.net/v/t39.30808-6/280537569_1158126148311504_8889998883410712437_n.jpg?_nc_cat=101&ccb=1-6&_nc_sid=5cd70e&_nc_ohc=wg9wQ6_6EfkAX_0GLPU&_nc_ht=scontent.fcla3-1.fna&oh=00_AT8GyLcvzHceRnqoH3h6de4w2IfI_SPCttFUJ-TCd5qV7A&oe=627DC013',\n",
       " 'https://scontent.fcla3-1.fna.fbcdn.net/v/t39.30808-6/280240697_1158126074978178_1636027826095820086_n.jpg?_nc_cat=104&ccb=1-6&_nc_sid=5cd70e&_nc_ohc=D4I6qLo0TsYAX_HLEgq&_nc_ht=scontent.fcla3-1.fna&oh=00_AT_CUFOxCdhAkKBzOSjrXnI1d-4vLKlenknUl3H70238ug&oe=627D8073',\n",
       " 'https://scontent.fcla3-1.fna.fbcdn.net/v/t39.30808-6/280399538_1158126004978185_5117167611954431237_n.jpg?_nc_cat=104&ccb=1-6&_nc_sid=5cd70e&_nc_ohc=NPhqo69iXDYAX9A0fgA&_nc_ht=scontent.fcla3-1.fna&oh=00_AT8CheyYzFzrxM-TU3nODILuL9rje1ebIpFTGnpQ5bBjIA&oe=627D9E27',\n",
       " 'https://scontent.fcla3-1.fna.fbcdn.net/v/t39.30808-6/280474460_1158125948311524_3218514384348778931_n.jpg?_nc_cat=107&ccb=1-6&_nc_sid=5cd70e&_nc_ohc=prqKVTdUwxQAX-BA2Z2&_nc_ht=scontent.fcla3-1.fna&oh=00_AT9lwP3Add6QV_OBlOL2EtisBYME3NBqQ-IOpYnhxt9OFA&oe=627F1527',\n",
       " 'https://scontent.fcla3-1.fna.fbcdn.net/v/t39.30808-6/280312662_1158125861644866_4171449323218485263_n.jpg?_nc_cat=110&ccb=1-6&_nc_sid=5cd70e&_nc_ohc=sWmmokUlWUIAX-QK3me&_nc_ht=scontent.fcla3-1.fna&oh=00_AT_mND7mnkgZhnYZe4KTEdg4fDbWb8i_ZS7PufpexEIpyA&oe=627EB802',\n",
       " 'https://scontent.fcla3-1.fna.fbcdn.net/v/t39.30808-6/279737141_4379867812115888_2314464291689689952_n.jpg?_nc_cat=107&ccb=1-6&_nc_sid=8bfeb9&_nc_ohc=tsUkSw63MvIAX9RQdyO&_nc_ht=scontent.fcla3-1.fna&oh=00_AT--TMTJ2U32IB--ZHyiB4KPucgeK15rQSZnWmTgT8hrzw&oe=627EF4F9']"
      ]
     },
     "execution_count": 8,
     "metadata": {},
     "output_type": "execute_result"
    }
   ],
   "source": [
    "images = []\n",
    "\n",
    "#driver.get(\"https://www.facebook.com/chotpotiFUSKA/photos/\")\n",
    "driver.get(\"https://www.facebook.com/groups/537554109685212/media/photos\")\n",
    "time.sleep(5)\n",
    "    \n",
    "n_scrolls = 3\n",
    "for j in range(1, n_scrolls):\n",
    "    driver.execute_script(\"window.scrollTo(0, 3500);\")\n",
    "    #driver.execute_script(\"window.scrollTo(0, document.body.scrollHeight);\")\n",
    "    time.sleep(5)\n",
    "    \n",
    "    anchors = driver.find_elements_by_tag_name('a')\n",
    "    anchors = [a.get_attribute('href') for a in anchors]\n",
    "    anchors = [a for a in anchors if str(a).startswith(\"https://www.facebook.com/photo/\")]\n",
    "    #print(anchors)\n",
    "    \n",
    "    for a in anchors:\n",
    "            driver.get(a)\n",
    "            time.sleep(5)\n",
    "            img = driver.find_elements_by_tag_name(\"img\")\n",
    "            images.append(img[0].get_attribute(\"src\"))\n",
    "            \n",
    "            \n",
    "images"
   ]
  },
  {
   "cell_type": "code",
   "execution_count": 9,
   "id": "69635ae6",
   "metadata": {
    "scrolled": true
   },
   "outputs": [
    {
     "ename": "FileExistsError",
     "evalue": "[WinError 183] Cannot create a file when that file already exists: 'C:\\\\Users\\\\Lenovo\\\\Scrapedphotos'",
     "output_type": "error",
     "traceback": [
      "\u001b[1;31m---------------------------------------------------------------------------\u001b[0m",
      "\u001b[1;31mFileExistsError\u001b[0m                           Traceback (most recent call last)",
      "\u001b[1;32m~\\AppData\\Local\\Temp/ipykernel_880/4094570592.py\u001b[0m in \u001b[0;36m<module>\u001b[1;34m\u001b[0m\n\u001b[0;32m      3\u001b[0m \u001b[1;33m\u001b[0m\u001b[0m\n\u001b[0;32m      4\u001b[0m \u001b[1;31m#create the directory\u001b[0m\u001b[1;33m\u001b[0m\u001b[1;33m\u001b[0m\u001b[0m\n\u001b[1;32m----> 5\u001b[1;33m \u001b[0mos\u001b[0m\u001b[1;33m.\u001b[0m\u001b[0mmkdir\u001b[0m\u001b[1;33m(\u001b[0m\u001b[0mpath\u001b[0m\u001b[1;33m)\u001b[0m\u001b[1;33m\u001b[0m\u001b[1;33m\u001b[0m\u001b[0m\n\u001b[0m\u001b[0;32m      6\u001b[0m \u001b[1;33m\u001b[0m\u001b[0m\n\u001b[0;32m      7\u001b[0m \u001b[0mpath\u001b[0m\u001b[1;33m\u001b[0m\u001b[1;33m\u001b[0m\u001b[0m\n",
      "\u001b[1;31mFileExistsError\u001b[0m: [WinError 183] Cannot create a file when that file already exists: 'C:\\\\Users\\\\Lenovo\\\\Scrapedphotos'"
     ]
    }
   ],
   "source": [
    "path = os.getcwd()\n",
    "path = os.path.join(path, \"Scrapedphotos\")\n",
    "\n",
    "#create the directory\n",
    "os.mkdir(path)\n",
    "\n",
    "path"
   ]
  },
  {
   "cell_type": "code",
   "execution_count": 10,
   "id": "2098e487",
   "metadata": {},
   "outputs": [],
   "source": [
    "#download images\n",
    "counter = 0\n",
    "for image in images:\n",
    "    save_as = os.path.join(path, str(counter) + '.png')\n",
    "    wget.download(image, save_as)\n",
    "    counter += 1"
   ]
  },
  {
   "cell_type": "code",
   "execution_count": null,
   "id": "18dab763",
   "metadata": {},
   "outputs": [],
   "source": []
  }
 ],
 "metadata": {
  "kernelspec": {
   "display_name": "Python 3 (ipykernel)",
   "language": "python",
   "name": "python3"
  },
  "language_info": {
   "codemirror_mode": {
    "name": "ipython",
    "version": 3
   },
   "file_extension": ".py",
   "mimetype": "text/x-python",
   "name": "python",
   "nbconvert_exporter": "python",
   "pygments_lexer": "ipython3",
   "version": "3.9.7"
  }
 },
 "nbformat": 4,
 "nbformat_minor": 5
}
